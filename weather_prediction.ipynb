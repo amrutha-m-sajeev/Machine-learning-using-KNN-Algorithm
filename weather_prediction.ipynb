{
  "nbformat": 4,
  "nbformat_minor": 0,
  "metadata": {
    "colab": {
      "provenance": [],
      "authorship_tag": "ABX9TyNgmwuzrOH7IA9OlneD3EPK",
      "include_colab_link": true
    },
    "kernelspec": {
      "name": "python3",
      "display_name": "Python 3"
    },
    "language_info": {
      "name": "python"
    }
  },
  "cells": [
    {
      "cell_type": "markdown",
      "metadata": {
        "id": "view-in-github",
        "colab_type": "text"
      },
      "source": [
        "<a href=\"https://colab.research.google.com/github/amrutha-m-sajeev/Machine-learning/blob/main/weather_prediction.ipynb\" target=\"_parent\"><img src=\"https://colab.research.google.com/assets/colab-badge.svg\" alt=\"Open In Colab\"/></a>"
      ]
    },
    {
      "cell_type": "code",
      "execution_count": 17,
      "metadata": {
        "colab": {
          "base_uri": "https://localhost:8080/",
          "height": 424
        },
        "id": "ujwukHlKKVWz",
        "outputId": "05974f50-18df-4bfc-d325-850d55f23273"
      },
      "outputs": [
        {
          "output_type": "execute_result",
          "data": {
            "text/plain": [
              "            date  precipitation  temp_max  temp_min  wind  weather\n",
              "0     2012-01-01            0.0      12.8       5.0   4.7  drizzle\n",
              "1     2012-01-02           10.9      10.6       2.8   4.5     rain\n",
              "2     2012-01-03            0.8      11.7       7.2   2.3     rain\n",
              "3     2012-01-04           20.3      12.2       5.6   4.7     rain\n",
              "4     2012-01-05            1.3       8.9       2.8   6.1     rain\n",
              "...          ...            ...       ...       ...   ...      ...\n",
              "1456  2015-12-27            8.6       4.4       1.7   2.9     rain\n",
              "1457  2015-12-28            1.5       5.0       1.7   1.3     rain\n",
              "1458  2015-12-29            0.0       7.2       0.6   2.6      fog\n",
              "1459  2015-12-30            0.0       5.6      -1.0   3.4      sun\n",
              "1460  2015-12-31            0.0       5.6      -2.1   3.5      sun\n",
              "\n",
              "[1461 rows x 6 columns]"
            ],
            "text/html": [
              "\n",
              "  <div id=\"df-35d35f7c-574c-4bbd-bdd8-447a3025e29a\">\n",
              "    <div class=\"colab-df-container\">\n",
              "      <div>\n",
              "<style scoped>\n",
              "    .dataframe tbody tr th:only-of-type {\n",
              "        vertical-align: middle;\n",
              "    }\n",
              "\n",
              "    .dataframe tbody tr th {\n",
              "        vertical-align: top;\n",
              "    }\n",
              "\n",
              "    .dataframe thead th {\n",
              "        text-align: right;\n",
              "    }\n",
              "</style>\n",
              "<table border=\"1\" class=\"dataframe\">\n",
              "  <thead>\n",
              "    <tr style=\"text-align: right;\">\n",
              "      <th></th>\n",
              "      <th>date</th>\n",
              "      <th>precipitation</th>\n",
              "      <th>temp_max</th>\n",
              "      <th>temp_min</th>\n",
              "      <th>wind</th>\n",
              "      <th>weather</th>\n",
              "    </tr>\n",
              "  </thead>\n",
              "  <tbody>\n",
              "    <tr>\n",
              "      <th>0</th>\n",
              "      <td>2012-01-01</td>\n",
              "      <td>0.0</td>\n",
              "      <td>12.8</td>\n",
              "      <td>5.0</td>\n",
              "      <td>4.7</td>\n",
              "      <td>drizzle</td>\n",
              "    </tr>\n",
              "    <tr>\n",
              "      <th>1</th>\n",
              "      <td>2012-01-02</td>\n",
              "      <td>10.9</td>\n",
              "      <td>10.6</td>\n",
              "      <td>2.8</td>\n",
              "      <td>4.5</td>\n",
              "      <td>rain</td>\n",
              "    </tr>\n",
              "    <tr>\n",
              "      <th>2</th>\n",
              "      <td>2012-01-03</td>\n",
              "      <td>0.8</td>\n",
              "      <td>11.7</td>\n",
              "      <td>7.2</td>\n",
              "      <td>2.3</td>\n",
              "      <td>rain</td>\n",
              "    </tr>\n",
              "    <tr>\n",
              "      <th>3</th>\n",
              "      <td>2012-01-04</td>\n",
              "      <td>20.3</td>\n",
              "      <td>12.2</td>\n",
              "      <td>5.6</td>\n",
              "      <td>4.7</td>\n",
              "      <td>rain</td>\n",
              "    </tr>\n",
              "    <tr>\n",
              "      <th>4</th>\n",
              "      <td>2012-01-05</td>\n",
              "      <td>1.3</td>\n",
              "      <td>8.9</td>\n",
              "      <td>2.8</td>\n",
              "      <td>6.1</td>\n",
              "      <td>rain</td>\n",
              "    </tr>\n",
              "    <tr>\n",
              "      <th>...</th>\n",
              "      <td>...</td>\n",
              "      <td>...</td>\n",
              "      <td>...</td>\n",
              "      <td>...</td>\n",
              "      <td>...</td>\n",
              "      <td>...</td>\n",
              "    </tr>\n",
              "    <tr>\n",
              "      <th>1456</th>\n",
              "      <td>2015-12-27</td>\n",
              "      <td>8.6</td>\n",
              "      <td>4.4</td>\n",
              "      <td>1.7</td>\n",
              "      <td>2.9</td>\n",
              "      <td>rain</td>\n",
              "    </tr>\n",
              "    <tr>\n",
              "      <th>1457</th>\n",
              "      <td>2015-12-28</td>\n",
              "      <td>1.5</td>\n",
              "      <td>5.0</td>\n",
              "      <td>1.7</td>\n",
              "      <td>1.3</td>\n",
              "      <td>rain</td>\n",
              "    </tr>\n",
              "    <tr>\n",
              "      <th>1458</th>\n",
              "      <td>2015-12-29</td>\n",
              "      <td>0.0</td>\n",
              "      <td>7.2</td>\n",
              "      <td>0.6</td>\n",
              "      <td>2.6</td>\n",
              "      <td>fog</td>\n",
              "    </tr>\n",
              "    <tr>\n",
              "      <th>1459</th>\n",
              "      <td>2015-12-30</td>\n",
              "      <td>0.0</td>\n",
              "      <td>5.6</td>\n",
              "      <td>-1.0</td>\n",
              "      <td>3.4</td>\n",
              "      <td>sun</td>\n",
              "    </tr>\n",
              "    <tr>\n",
              "      <th>1460</th>\n",
              "      <td>2015-12-31</td>\n",
              "      <td>0.0</td>\n",
              "      <td>5.6</td>\n",
              "      <td>-2.1</td>\n",
              "      <td>3.5</td>\n",
              "      <td>sun</td>\n",
              "    </tr>\n",
              "  </tbody>\n",
              "</table>\n",
              "<p>1461 rows × 6 columns</p>\n",
              "</div>\n",
              "      <button class=\"colab-df-convert\" onclick=\"convertToInteractive('df-35d35f7c-574c-4bbd-bdd8-447a3025e29a')\"\n",
              "              title=\"Convert this dataframe to an interactive table.\"\n",
              "              style=\"display:none;\">\n",
              "        \n",
              "  <svg xmlns=\"http://www.w3.org/2000/svg\" height=\"24px\"viewBox=\"0 0 24 24\"\n",
              "       width=\"24px\">\n",
              "    <path d=\"M0 0h24v24H0V0z\" fill=\"none\"/>\n",
              "    <path d=\"M18.56 5.44l.94 2.06.94-2.06 2.06-.94-2.06-.94-.94-2.06-.94 2.06-2.06.94zm-11 1L8.5 8.5l.94-2.06 2.06-.94-2.06-.94L8.5 2.5l-.94 2.06-2.06.94zm10 10l.94 2.06.94-2.06 2.06-.94-2.06-.94-.94-2.06-.94 2.06-2.06.94z\"/><path d=\"M17.41 7.96l-1.37-1.37c-.4-.4-.92-.59-1.43-.59-.52 0-1.04.2-1.43.59L10.3 9.45l-7.72 7.72c-.78.78-.78 2.05 0 2.83L4 21.41c.39.39.9.59 1.41.59.51 0 1.02-.2 1.41-.59l7.78-7.78 2.81-2.81c.8-.78.8-2.07 0-2.86zM5.41 20L4 18.59l7.72-7.72 1.47 1.35L5.41 20z\"/>\n",
              "  </svg>\n",
              "      </button>\n",
              "      \n",
              "  <style>\n",
              "    .colab-df-container {\n",
              "      display:flex;\n",
              "      flex-wrap:wrap;\n",
              "      gap: 12px;\n",
              "    }\n",
              "\n",
              "    .colab-df-convert {\n",
              "      background-color: #E8F0FE;\n",
              "      border: none;\n",
              "      border-radius: 50%;\n",
              "      cursor: pointer;\n",
              "      display: none;\n",
              "      fill: #1967D2;\n",
              "      height: 32px;\n",
              "      padding: 0 0 0 0;\n",
              "      width: 32px;\n",
              "    }\n",
              "\n",
              "    .colab-df-convert:hover {\n",
              "      background-color: #E2EBFA;\n",
              "      box-shadow: 0px 1px 2px rgba(60, 64, 67, 0.3), 0px 1px 3px 1px rgba(60, 64, 67, 0.15);\n",
              "      fill: #174EA6;\n",
              "    }\n",
              "\n",
              "    [theme=dark] .colab-df-convert {\n",
              "      background-color: #3B4455;\n",
              "      fill: #D2E3FC;\n",
              "    }\n",
              "\n",
              "    [theme=dark] .colab-df-convert:hover {\n",
              "      background-color: #434B5C;\n",
              "      box-shadow: 0px 1px 3px 1px rgba(0, 0, 0, 0.15);\n",
              "      filter: drop-shadow(0px 1px 2px rgba(0, 0, 0, 0.3));\n",
              "      fill: #FFFFFF;\n",
              "    }\n",
              "  </style>\n",
              "\n",
              "      <script>\n",
              "        const buttonEl =\n",
              "          document.querySelector('#df-35d35f7c-574c-4bbd-bdd8-447a3025e29a button.colab-df-convert');\n",
              "        buttonEl.style.display =\n",
              "          google.colab.kernel.accessAllowed ? 'block' : 'none';\n",
              "\n",
              "        async function convertToInteractive(key) {\n",
              "          const element = document.querySelector('#df-35d35f7c-574c-4bbd-bdd8-447a3025e29a');\n",
              "          const dataTable =\n",
              "            await google.colab.kernel.invokeFunction('convertToInteractive',\n",
              "                                                     [key], {});\n",
              "          if (!dataTable) return;\n",
              "\n",
              "          const docLinkHtml = 'Like what you see? Visit the ' +\n",
              "            '<a target=\"_blank\" href=https://colab.research.google.com/notebooks/data_table.ipynb>data table notebook</a>'\n",
              "            + ' to learn more about interactive tables.';\n",
              "          element.innerHTML = '';\n",
              "          dataTable['output_type'] = 'display_data';\n",
              "          await google.colab.output.renderOutput(dataTable, element);\n",
              "          const docLink = document.createElement('div');\n",
              "          docLink.innerHTML = docLinkHtml;\n",
              "          element.appendChild(docLink);\n",
              "        }\n",
              "      </script>\n",
              "    </div>\n",
              "  </div>\n",
              "  "
            ]
          },
          "metadata": {},
          "execution_count": 17
        }
      ],
      "source": [
        "import numpy as np\n",
        "import pandas as pd\n",
        "df=pd.read_csv('/content/seattle-weather.csv')\n",
        "df"
      ]
    },
    {
      "cell_type": "code",
      "source": [
        "df.head()"
      ],
      "metadata": {
        "colab": {
          "base_uri": "https://localhost:8080/",
          "height": 206
        },
        "id": "P9ujFqZ_Lalr",
        "outputId": "d315af8a-f55a-4912-ef3f-34f4f7c4c0d3"
      },
      "execution_count": 18,
      "outputs": [
        {
          "output_type": "execute_result",
          "data": {
            "text/plain": [
              "         date  precipitation  temp_max  temp_min  wind  weather\n",
              "0  2012-01-01            0.0      12.8       5.0   4.7  drizzle\n",
              "1  2012-01-02           10.9      10.6       2.8   4.5     rain\n",
              "2  2012-01-03            0.8      11.7       7.2   2.3     rain\n",
              "3  2012-01-04           20.3      12.2       5.6   4.7     rain\n",
              "4  2012-01-05            1.3       8.9       2.8   6.1     rain"
            ],
            "text/html": [
              "\n",
              "  <div id=\"df-b009f800-674a-42f2-ad53-5768214a2899\">\n",
              "    <div class=\"colab-df-container\">\n",
              "      <div>\n",
              "<style scoped>\n",
              "    .dataframe tbody tr th:only-of-type {\n",
              "        vertical-align: middle;\n",
              "    }\n",
              "\n",
              "    .dataframe tbody tr th {\n",
              "        vertical-align: top;\n",
              "    }\n",
              "\n",
              "    .dataframe thead th {\n",
              "        text-align: right;\n",
              "    }\n",
              "</style>\n",
              "<table border=\"1\" class=\"dataframe\">\n",
              "  <thead>\n",
              "    <tr style=\"text-align: right;\">\n",
              "      <th></th>\n",
              "      <th>date</th>\n",
              "      <th>precipitation</th>\n",
              "      <th>temp_max</th>\n",
              "      <th>temp_min</th>\n",
              "      <th>wind</th>\n",
              "      <th>weather</th>\n",
              "    </tr>\n",
              "  </thead>\n",
              "  <tbody>\n",
              "    <tr>\n",
              "      <th>0</th>\n",
              "      <td>2012-01-01</td>\n",
              "      <td>0.0</td>\n",
              "      <td>12.8</td>\n",
              "      <td>5.0</td>\n",
              "      <td>4.7</td>\n",
              "      <td>drizzle</td>\n",
              "    </tr>\n",
              "    <tr>\n",
              "      <th>1</th>\n",
              "      <td>2012-01-02</td>\n",
              "      <td>10.9</td>\n",
              "      <td>10.6</td>\n",
              "      <td>2.8</td>\n",
              "      <td>4.5</td>\n",
              "      <td>rain</td>\n",
              "    </tr>\n",
              "    <tr>\n",
              "      <th>2</th>\n",
              "      <td>2012-01-03</td>\n",
              "      <td>0.8</td>\n",
              "      <td>11.7</td>\n",
              "      <td>7.2</td>\n",
              "      <td>2.3</td>\n",
              "      <td>rain</td>\n",
              "    </tr>\n",
              "    <tr>\n",
              "      <th>3</th>\n",
              "      <td>2012-01-04</td>\n",
              "      <td>20.3</td>\n",
              "      <td>12.2</td>\n",
              "      <td>5.6</td>\n",
              "      <td>4.7</td>\n",
              "      <td>rain</td>\n",
              "    </tr>\n",
              "    <tr>\n",
              "      <th>4</th>\n",
              "      <td>2012-01-05</td>\n",
              "      <td>1.3</td>\n",
              "      <td>8.9</td>\n",
              "      <td>2.8</td>\n",
              "      <td>6.1</td>\n",
              "      <td>rain</td>\n",
              "    </tr>\n",
              "  </tbody>\n",
              "</table>\n",
              "</div>\n",
              "      <button class=\"colab-df-convert\" onclick=\"convertToInteractive('df-b009f800-674a-42f2-ad53-5768214a2899')\"\n",
              "              title=\"Convert this dataframe to an interactive table.\"\n",
              "              style=\"display:none;\">\n",
              "        \n",
              "  <svg xmlns=\"http://www.w3.org/2000/svg\" height=\"24px\"viewBox=\"0 0 24 24\"\n",
              "       width=\"24px\">\n",
              "    <path d=\"M0 0h24v24H0V0z\" fill=\"none\"/>\n",
              "    <path d=\"M18.56 5.44l.94 2.06.94-2.06 2.06-.94-2.06-.94-.94-2.06-.94 2.06-2.06.94zm-11 1L8.5 8.5l.94-2.06 2.06-.94-2.06-.94L8.5 2.5l-.94 2.06-2.06.94zm10 10l.94 2.06.94-2.06 2.06-.94-2.06-.94-.94-2.06-.94 2.06-2.06.94z\"/><path d=\"M17.41 7.96l-1.37-1.37c-.4-.4-.92-.59-1.43-.59-.52 0-1.04.2-1.43.59L10.3 9.45l-7.72 7.72c-.78.78-.78 2.05 0 2.83L4 21.41c.39.39.9.59 1.41.59.51 0 1.02-.2 1.41-.59l7.78-7.78 2.81-2.81c.8-.78.8-2.07 0-2.86zM5.41 20L4 18.59l7.72-7.72 1.47 1.35L5.41 20z\"/>\n",
              "  </svg>\n",
              "      </button>\n",
              "      \n",
              "  <style>\n",
              "    .colab-df-container {\n",
              "      display:flex;\n",
              "      flex-wrap:wrap;\n",
              "      gap: 12px;\n",
              "    }\n",
              "\n",
              "    .colab-df-convert {\n",
              "      background-color: #E8F0FE;\n",
              "      border: none;\n",
              "      border-radius: 50%;\n",
              "      cursor: pointer;\n",
              "      display: none;\n",
              "      fill: #1967D2;\n",
              "      height: 32px;\n",
              "      padding: 0 0 0 0;\n",
              "      width: 32px;\n",
              "    }\n",
              "\n",
              "    .colab-df-convert:hover {\n",
              "      background-color: #E2EBFA;\n",
              "      box-shadow: 0px 1px 2px rgba(60, 64, 67, 0.3), 0px 1px 3px 1px rgba(60, 64, 67, 0.15);\n",
              "      fill: #174EA6;\n",
              "    }\n",
              "\n",
              "    [theme=dark] .colab-df-convert {\n",
              "      background-color: #3B4455;\n",
              "      fill: #D2E3FC;\n",
              "    }\n",
              "\n",
              "    [theme=dark] .colab-df-convert:hover {\n",
              "      background-color: #434B5C;\n",
              "      box-shadow: 0px 1px 3px 1px rgba(0, 0, 0, 0.15);\n",
              "      filter: drop-shadow(0px 1px 2px rgba(0, 0, 0, 0.3));\n",
              "      fill: #FFFFFF;\n",
              "    }\n",
              "  </style>\n",
              "\n",
              "      <script>\n",
              "        const buttonEl =\n",
              "          document.querySelector('#df-b009f800-674a-42f2-ad53-5768214a2899 button.colab-df-convert');\n",
              "        buttonEl.style.display =\n",
              "          google.colab.kernel.accessAllowed ? 'block' : 'none';\n",
              "\n",
              "        async function convertToInteractive(key) {\n",
              "          const element = document.querySelector('#df-b009f800-674a-42f2-ad53-5768214a2899');\n",
              "          const dataTable =\n",
              "            await google.colab.kernel.invokeFunction('convertToInteractive',\n",
              "                                                     [key], {});\n",
              "          if (!dataTable) return;\n",
              "\n",
              "          const docLinkHtml = 'Like what you see? Visit the ' +\n",
              "            '<a target=\"_blank\" href=https://colab.research.google.com/notebooks/data_table.ipynb>data table notebook</a>'\n",
              "            + ' to learn more about interactive tables.';\n",
              "          element.innerHTML = '';\n",
              "          dataTable['output_type'] = 'display_data';\n",
              "          await google.colab.output.renderOutput(dataTable, element);\n",
              "          const docLink = document.createElement('div');\n",
              "          docLink.innerHTML = docLinkHtml;\n",
              "          element.appendChild(docLink);\n",
              "        }\n",
              "      </script>\n",
              "    </div>\n",
              "  </div>\n",
              "  "
            ]
          },
          "metadata": {},
          "execution_count": 18
        }
      ]
    },
    {
      "cell_type": "code",
      "source": [
        "df.tail()"
      ],
      "metadata": {
        "colab": {
          "base_uri": "https://localhost:8080/",
          "height": 206
        },
        "id": "2_swgcfDLgXq",
        "outputId": "c71edd54-f085-457c-9845-1de41e2d9fbe"
      },
      "execution_count": 19,
      "outputs": [
        {
          "output_type": "execute_result",
          "data": {
            "text/plain": [
              "            date  precipitation  temp_max  temp_min  wind weather\n",
              "1456  2015-12-27            8.6       4.4       1.7   2.9    rain\n",
              "1457  2015-12-28            1.5       5.0       1.7   1.3    rain\n",
              "1458  2015-12-29            0.0       7.2       0.6   2.6     fog\n",
              "1459  2015-12-30            0.0       5.6      -1.0   3.4     sun\n",
              "1460  2015-12-31            0.0       5.6      -2.1   3.5     sun"
            ],
            "text/html": [
              "\n",
              "  <div id=\"df-37429fca-cfa4-45d3-8264-e3a69996f03a\">\n",
              "    <div class=\"colab-df-container\">\n",
              "      <div>\n",
              "<style scoped>\n",
              "    .dataframe tbody tr th:only-of-type {\n",
              "        vertical-align: middle;\n",
              "    }\n",
              "\n",
              "    .dataframe tbody tr th {\n",
              "        vertical-align: top;\n",
              "    }\n",
              "\n",
              "    .dataframe thead th {\n",
              "        text-align: right;\n",
              "    }\n",
              "</style>\n",
              "<table border=\"1\" class=\"dataframe\">\n",
              "  <thead>\n",
              "    <tr style=\"text-align: right;\">\n",
              "      <th></th>\n",
              "      <th>date</th>\n",
              "      <th>precipitation</th>\n",
              "      <th>temp_max</th>\n",
              "      <th>temp_min</th>\n",
              "      <th>wind</th>\n",
              "      <th>weather</th>\n",
              "    </tr>\n",
              "  </thead>\n",
              "  <tbody>\n",
              "    <tr>\n",
              "      <th>1456</th>\n",
              "      <td>2015-12-27</td>\n",
              "      <td>8.6</td>\n",
              "      <td>4.4</td>\n",
              "      <td>1.7</td>\n",
              "      <td>2.9</td>\n",
              "      <td>rain</td>\n",
              "    </tr>\n",
              "    <tr>\n",
              "      <th>1457</th>\n",
              "      <td>2015-12-28</td>\n",
              "      <td>1.5</td>\n",
              "      <td>5.0</td>\n",
              "      <td>1.7</td>\n",
              "      <td>1.3</td>\n",
              "      <td>rain</td>\n",
              "    </tr>\n",
              "    <tr>\n",
              "      <th>1458</th>\n",
              "      <td>2015-12-29</td>\n",
              "      <td>0.0</td>\n",
              "      <td>7.2</td>\n",
              "      <td>0.6</td>\n",
              "      <td>2.6</td>\n",
              "      <td>fog</td>\n",
              "    </tr>\n",
              "    <tr>\n",
              "      <th>1459</th>\n",
              "      <td>2015-12-30</td>\n",
              "      <td>0.0</td>\n",
              "      <td>5.6</td>\n",
              "      <td>-1.0</td>\n",
              "      <td>3.4</td>\n",
              "      <td>sun</td>\n",
              "    </tr>\n",
              "    <tr>\n",
              "      <th>1460</th>\n",
              "      <td>2015-12-31</td>\n",
              "      <td>0.0</td>\n",
              "      <td>5.6</td>\n",
              "      <td>-2.1</td>\n",
              "      <td>3.5</td>\n",
              "      <td>sun</td>\n",
              "    </tr>\n",
              "  </tbody>\n",
              "</table>\n",
              "</div>\n",
              "      <button class=\"colab-df-convert\" onclick=\"convertToInteractive('df-37429fca-cfa4-45d3-8264-e3a69996f03a')\"\n",
              "              title=\"Convert this dataframe to an interactive table.\"\n",
              "              style=\"display:none;\">\n",
              "        \n",
              "  <svg xmlns=\"http://www.w3.org/2000/svg\" height=\"24px\"viewBox=\"0 0 24 24\"\n",
              "       width=\"24px\">\n",
              "    <path d=\"M0 0h24v24H0V0z\" fill=\"none\"/>\n",
              "    <path d=\"M18.56 5.44l.94 2.06.94-2.06 2.06-.94-2.06-.94-.94-2.06-.94 2.06-2.06.94zm-11 1L8.5 8.5l.94-2.06 2.06-.94-2.06-.94L8.5 2.5l-.94 2.06-2.06.94zm10 10l.94 2.06.94-2.06 2.06-.94-2.06-.94-.94-2.06-.94 2.06-2.06.94z\"/><path d=\"M17.41 7.96l-1.37-1.37c-.4-.4-.92-.59-1.43-.59-.52 0-1.04.2-1.43.59L10.3 9.45l-7.72 7.72c-.78.78-.78 2.05 0 2.83L4 21.41c.39.39.9.59 1.41.59.51 0 1.02-.2 1.41-.59l7.78-7.78 2.81-2.81c.8-.78.8-2.07 0-2.86zM5.41 20L4 18.59l7.72-7.72 1.47 1.35L5.41 20z\"/>\n",
              "  </svg>\n",
              "      </button>\n",
              "      \n",
              "  <style>\n",
              "    .colab-df-container {\n",
              "      display:flex;\n",
              "      flex-wrap:wrap;\n",
              "      gap: 12px;\n",
              "    }\n",
              "\n",
              "    .colab-df-convert {\n",
              "      background-color: #E8F0FE;\n",
              "      border: none;\n",
              "      border-radius: 50%;\n",
              "      cursor: pointer;\n",
              "      display: none;\n",
              "      fill: #1967D2;\n",
              "      height: 32px;\n",
              "      padding: 0 0 0 0;\n",
              "      width: 32px;\n",
              "    }\n",
              "\n",
              "    .colab-df-convert:hover {\n",
              "      background-color: #E2EBFA;\n",
              "      box-shadow: 0px 1px 2px rgba(60, 64, 67, 0.3), 0px 1px 3px 1px rgba(60, 64, 67, 0.15);\n",
              "      fill: #174EA6;\n",
              "    }\n",
              "\n",
              "    [theme=dark] .colab-df-convert {\n",
              "      background-color: #3B4455;\n",
              "      fill: #D2E3FC;\n",
              "    }\n",
              "\n",
              "    [theme=dark] .colab-df-convert:hover {\n",
              "      background-color: #434B5C;\n",
              "      box-shadow: 0px 1px 3px 1px rgba(0, 0, 0, 0.15);\n",
              "      filter: drop-shadow(0px 1px 2px rgba(0, 0, 0, 0.3));\n",
              "      fill: #FFFFFF;\n",
              "    }\n",
              "  </style>\n",
              "\n",
              "      <script>\n",
              "        const buttonEl =\n",
              "          document.querySelector('#df-37429fca-cfa4-45d3-8264-e3a69996f03a button.colab-df-convert');\n",
              "        buttonEl.style.display =\n",
              "          google.colab.kernel.accessAllowed ? 'block' : 'none';\n",
              "\n",
              "        async function convertToInteractive(key) {\n",
              "          const element = document.querySelector('#df-37429fca-cfa4-45d3-8264-e3a69996f03a');\n",
              "          const dataTable =\n",
              "            await google.colab.kernel.invokeFunction('convertToInteractive',\n",
              "                                                     [key], {});\n",
              "          if (!dataTable) return;\n",
              "\n",
              "          const docLinkHtml = 'Like what you see? Visit the ' +\n",
              "            '<a target=\"_blank\" href=https://colab.research.google.com/notebooks/data_table.ipynb>data table notebook</a>'\n",
              "            + ' to learn more about interactive tables.';\n",
              "          element.innerHTML = '';\n",
              "          dataTable['output_type'] = 'display_data';\n",
              "          await google.colab.output.renderOutput(dataTable, element);\n",
              "          const docLink = document.createElement('div');\n",
              "          docLink.innerHTML = docLinkHtml;\n",
              "          element.appendChild(docLink);\n",
              "        }\n",
              "      </script>\n",
              "    </div>\n",
              "  </div>\n",
              "  "
            ]
          },
          "metadata": {},
          "execution_count": 19
        }
      ]
    },
    {
      "cell_type": "code",
      "source": [
        "def date_time(df):\n",
        "\n",
        "    df['date'] = pd.to_datetime(df['date'])\n",
        "    df['year'] = df['date'].dt.year\n",
        "    df['month'] = df['date'].dt.month\n",
        "    return df\n",
        "df=date_time(df)\n",
        "df "
      ],
      "metadata": {
        "colab": {
          "base_uri": "https://localhost:8080/",
          "height": 424
        },
        "id": "QzWmaHBdMiPa",
        "outputId": "3adaf760-10a0-4b11-9c0b-c0a6368ecfb4"
      },
      "execution_count": 20,
      "outputs": [
        {
          "output_type": "execute_result",
          "data": {
            "text/plain": [
              "           date  precipitation  temp_max  temp_min  wind  weather  year  month\n",
              "0    2012-01-01            0.0      12.8       5.0   4.7  drizzle  2012      1\n",
              "1    2012-01-02           10.9      10.6       2.8   4.5     rain  2012      1\n",
              "2    2012-01-03            0.8      11.7       7.2   2.3     rain  2012      1\n",
              "3    2012-01-04           20.3      12.2       5.6   4.7     rain  2012      1\n",
              "4    2012-01-05            1.3       8.9       2.8   6.1     rain  2012      1\n",
              "...         ...            ...       ...       ...   ...      ...   ...    ...\n",
              "1456 2015-12-27            8.6       4.4       1.7   2.9     rain  2015     12\n",
              "1457 2015-12-28            1.5       5.0       1.7   1.3     rain  2015     12\n",
              "1458 2015-12-29            0.0       7.2       0.6   2.6      fog  2015     12\n",
              "1459 2015-12-30            0.0       5.6      -1.0   3.4      sun  2015     12\n",
              "1460 2015-12-31            0.0       5.6      -2.1   3.5      sun  2015     12\n",
              "\n",
              "[1461 rows x 8 columns]"
            ],
            "text/html": [
              "\n",
              "  <div id=\"df-a92ce169-92e9-4cca-87fc-e7be1b1b23d8\">\n",
              "    <div class=\"colab-df-container\">\n",
              "      <div>\n",
              "<style scoped>\n",
              "    .dataframe tbody tr th:only-of-type {\n",
              "        vertical-align: middle;\n",
              "    }\n",
              "\n",
              "    .dataframe tbody tr th {\n",
              "        vertical-align: top;\n",
              "    }\n",
              "\n",
              "    .dataframe thead th {\n",
              "        text-align: right;\n",
              "    }\n",
              "</style>\n",
              "<table border=\"1\" class=\"dataframe\">\n",
              "  <thead>\n",
              "    <tr style=\"text-align: right;\">\n",
              "      <th></th>\n",
              "      <th>date</th>\n",
              "      <th>precipitation</th>\n",
              "      <th>temp_max</th>\n",
              "      <th>temp_min</th>\n",
              "      <th>wind</th>\n",
              "      <th>weather</th>\n",
              "      <th>year</th>\n",
              "      <th>month</th>\n",
              "    </tr>\n",
              "  </thead>\n",
              "  <tbody>\n",
              "    <tr>\n",
              "      <th>0</th>\n",
              "      <td>2012-01-01</td>\n",
              "      <td>0.0</td>\n",
              "      <td>12.8</td>\n",
              "      <td>5.0</td>\n",
              "      <td>4.7</td>\n",
              "      <td>drizzle</td>\n",
              "      <td>2012</td>\n",
              "      <td>1</td>\n",
              "    </tr>\n",
              "    <tr>\n",
              "      <th>1</th>\n",
              "      <td>2012-01-02</td>\n",
              "      <td>10.9</td>\n",
              "      <td>10.6</td>\n",
              "      <td>2.8</td>\n",
              "      <td>4.5</td>\n",
              "      <td>rain</td>\n",
              "      <td>2012</td>\n",
              "      <td>1</td>\n",
              "    </tr>\n",
              "    <tr>\n",
              "      <th>2</th>\n",
              "      <td>2012-01-03</td>\n",
              "      <td>0.8</td>\n",
              "      <td>11.7</td>\n",
              "      <td>7.2</td>\n",
              "      <td>2.3</td>\n",
              "      <td>rain</td>\n",
              "      <td>2012</td>\n",
              "      <td>1</td>\n",
              "    </tr>\n",
              "    <tr>\n",
              "      <th>3</th>\n",
              "      <td>2012-01-04</td>\n",
              "      <td>20.3</td>\n",
              "      <td>12.2</td>\n",
              "      <td>5.6</td>\n",
              "      <td>4.7</td>\n",
              "      <td>rain</td>\n",
              "      <td>2012</td>\n",
              "      <td>1</td>\n",
              "    </tr>\n",
              "    <tr>\n",
              "      <th>4</th>\n",
              "      <td>2012-01-05</td>\n",
              "      <td>1.3</td>\n",
              "      <td>8.9</td>\n",
              "      <td>2.8</td>\n",
              "      <td>6.1</td>\n",
              "      <td>rain</td>\n",
              "      <td>2012</td>\n",
              "      <td>1</td>\n",
              "    </tr>\n",
              "    <tr>\n",
              "      <th>...</th>\n",
              "      <td>...</td>\n",
              "      <td>...</td>\n",
              "      <td>...</td>\n",
              "      <td>...</td>\n",
              "      <td>...</td>\n",
              "      <td>...</td>\n",
              "      <td>...</td>\n",
              "      <td>...</td>\n",
              "    </tr>\n",
              "    <tr>\n",
              "      <th>1456</th>\n",
              "      <td>2015-12-27</td>\n",
              "      <td>8.6</td>\n",
              "      <td>4.4</td>\n",
              "      <td>1.7</td>\n",
              "      <td>2.9</td>\n",
              "      <td>rain</td>\n",
              "      <td>2015</td>\n",
              "      <td>12</td>\n",
              "    </tr>\n",
              "    <tr>\n",
              "      <th>1457</th>\n",
              "      <td>2015-12-28</td>\n",
              "      <td>1.5</td>\n",
              "      <td>5.0</td>\n",
              "      <td>1.7</td>\n",
              "      <td>1.3</td>\n",
              "      <td>rain</td>\n",
              "      <td>2015</td>\n",
              "      <td>12</td>\n",
              "    </tr>\n",
              "    <tr>\n",
              "      <th>1458</th>\n",
              "      <td>2015-12-29</td>\n",
              "      <td>0.0</td>\n",
              "      <td>7.2</td>\n",
              "      <td>0.6</td>\n",
              "      <td>2.6</td>\n",
              "      <td>fog</td>\n",
              "      <td>2015</td>\n",
              "      <td>12</td>\n",
              "    </tr>\n",
              "    <tr>\n",
              "      <th>1459</th>\n",
              "      <td>2015-12-30</td>\n",
              "      <td>0.0</td>\n",
              "      <td>5.6</td>\n",
              "      <td>-1.0</td>\n",
              "      <td>3.4</td>\n",
              "      <td>sun</td>\n",
              "      <td>2015</td>\n",
              "      <td>12</td>\n",
              "    </tr>\n",
              "    <tr>\n",
              "      <th>1460</th>\n",
              "      <td>2015-12-31</td>\n",
              "      <td>0.0</td>\n",
              "      <td>5.6</td>\n",
              "      <td>-2.1</td>\n",
              "      <td>3.5</td>\n",
              "      <td>sun</td>\n",
              "      <td>2015</td>\n",
              "      <td>12</td>\n",
              "    </tr>\n",
              "  </tbody>\n",
              "</table>\n",
              "<p>1461 rows × 8 columns</p>\n",
              "</div>\n",
              "      <button class=\"colab-df-convert\" onclick=\"convertToInteractive('df-a92ce169-92e9-4cca-87fc-e7be1b1b23d8')\"\n",
              "              title=\"Convert this dataframe to an interactive table.\"\n",
              "              style=\"display:none;\">\n",
              "        \n",
              "  <svg xmlns=\"http://www.w3.org/2000/svg\" height=\"24px\"viewBox=\"0 0 24 24\"\n",
              "       width=\"24px\">\n",
              "    <path d=\"M0 0h24v24H0V0z\" fill=\"none\"/>\n",
              "    <path d=\"M18.56 5.44l.94 2.06.94-2.06 2.06-.94-2.06-.94-.94-2.06-.94 2.06-2.06.94zm-11 1L8.5 8.5l.94-2.06 2.06-.94-2.06-.94L8.5 2.5l-.94 2.06-2.06.94zm10 10l.94 2.06.94-2.06 2.06-.94-2.06-.94-.94-2.06-.94 2.06-2.06.94z\"/><path d=\"M17.41 7.96l-1.37-1.37c-.4-.4-.92-.59-1.43-.59-.52 0-1.04.2-1.43.59L10.3 9.45l-7.72 7.72c-.78.78-.78 2.05 0 2.83L4 21.41c.39.39.9.59 1.41.59.51 0 1.02-.2 1.41-.59l7.78-7.78 2.81-2.81c.8-.78.8-2.07 0-2.86zM5.41 20L4 18.59l7.72-7.72 1.47 1.35L5.41 20z\"/>\n",
              "  </svg>\n",
              "      </button>\n",
              "      \n",
              "  <style>\n",
              "    .colab-df-container {\n",
              "      display:flex;\n",
              "      flex-wrap:wrap;\n",
              "      gap: 12px;\n",
              "    }\n",
              "\n",
              "    .colab-df-convert {\n",
              "      background-color: #E8F0FE;\n",
              "      border: none;\n",
              "      border-radius: 50%;\n",
              "      cursor: pointer;\n",
              "      display: none;\n",
              "      fill: #1967D2;\n",
              "      height: 32px;\n",
              "      padding: 0 0 0 0;\n",
              "      width: 32px;\n",
              "    }\n",
              "\n",
              "    .colab-df-convert:hover {\n",
              "      background-color: #E2EBFA;\n",
              "      box-shadow: 0px 1px 2px rgba(60, 64, 67, 0.3), 0px 1px 3px 1px rgba(60, 64, 67, 0.15);\n",
              "      fill: #174EA6;\n",
              "    }\n",
              "\n",
              "    [theme=dark] .colab-df-convert {\n",
              "      background-color: #3B4455;\n",
              "      fill: #D2E3FC;\n",
              "    }\n",
              "\n",
              "    [theme=dark] .colab-df-convert:hover {\n",
              "      background-color: #434B5C;\n",
              "      box-shadow: 0px 1px 3px 1px rgba(0, 0, 0, 0.15);\n",
              "      filter: drop-shadow(0px 1px 2px rgba(0, 0, 0, 0.3));\n",
              "      fill: #FFFFFF;\n",
              "    }\n",
              "  </style>\n",
              "\n",
              "      <script>\n",
              "        const buttonEl =\n",
              "          document.querySelector('#df-a92ce169-92e9-4cca-87fc-e7be1b1b23d8 button.colab-df-convert');\n",
              "        buttonEl.style.display =\n",
              "          google.colab.kernel.accessAllowed ? 'block' : 'none';\n",
              "\n",
              "        async function convertToInteractive(key) {\n",
              "          const element = document.querySelector('#df-a92ce169-92e9-4cca-87fc-e7be1b1b23d8');\n",
              "          const dataTable =\n",
              "            await google.colab.kernel.invokeFunction('convertToInteractive',\n",
              "                                                     [key], {});\n",
              "          if (!dataTable) return;\n",
              "\n",
              "          const docLinkHtml = 'Like what you see? Visit the ' +\n",
              "            '<a target=\"_blank\" href=https://colab.research.google.com/notebooks/data_table.ipynb>data table notebook</a>'\n",
              "            + ' to learn more about interactive tables.';\n",
              "          element.innerHTML = '';\n",
              "          dataTable['output_type'] = 'display_data';\n",
              "          await google.colab.output.renderOutput(dataTable, element);\n",
              "          const docLink = document.createElement('div');\n",
              "          docLink.innerHTML = docLinkHtml;\n",
              "          element.appendChild(docLink);\n",
              "        }\n",
              "      </script>\n",
              "    </div>\n",
              "  </div>\n",
              "  "
            ]
          },
          "metadata": {},
          "execution_count": 20
        }
      ]
    },
    {
      "cell_type": "code",
      "source": [
        "df.drop(['date'],axis='columns',inplace=True)\n",
        "df"
      ],
      "metadata": {
        "colab": {
          "base_uri": "https://localhost:8080/",
          "height": 424
        },
        "id": "lyHPe5qET04V",
        "outputId": "0c013dac-ddef-40f4-b9ca-8f5a604dba4c"
      },
      "execution_count": 21,
      "outputs": [
        {
          "output_type": "execute_result",
          "data": {
            "text/plain": [
              "      precipitation  temp_max  temp_min  wind  weather  year  month\n",
              "0               0.0      12.8       5.0   4.7  drizzle  2012      1\n",
              "1              10.9      10.6       2.8   4.5     rain  2012      1\n",
              "2               0.8      11.7       7.2   2.3     rain  2012      1\n",
              "3              20.3      12.2       5.6   4.7     rain  2012      1\n",
              "4               1.3       8.9       2.8   6.1     rain  2012      1\n",
              "...             ...       ...       ...   ...      ...   ...    ...\n",
              "1456            8.6       4.4       1.7   2.9     rain  2015     12\n",
              "1457            1.5       5.0       1.7   1.3     rain  2015     12\n",
              "1458            0.0       7.2       0.6   2.6      fog  2015     12\n",
              "1459            0.0       5.6      -1.0   3.4      sun  2015     12\n",
              "1460            0.0       5.6      -2.1   3.5      sun  2015     12\n",
              "\n",
              "[1461 rows x 7 columns]"
            ],
            "text/html": [
              "\n",
              "  <div id=\"df-6a89ad16-f02a-43b4-a176-6d9cdbcd6c2c\">\n",
              "    <div class=\"colab-df-container\">\n",
              "      <div>\n",
              "<style scoped>\n",
              "    .dataframe tbody tr th:only-of-type {\n",
              "        vertical-align: middle;\n",
              "    }\n",
              "\n",
              "    .dataframe tbody tr th {\n",
              "        vertical-align: top;\n",
              "    }\n",
              "\n",
              "    .dataframe thead th {\n",
              "        text-align: right;\n",
              "    }\n",
              "</style>\n",
              "<table border=\"1\" class=\"dataframe\">\n",
              "  <thead>\n",
              "    <tr style=\"text-align: right;\">\n",
              "      <th></th>\n",
              "      <th>precipitation</th>\n",
              "      <th>temp_max</th>\n",
              "      <th>temp_min</th>\n",
              "      <th>wind</th>\n",
              "      <th>weather</th>\n",
              "      <th>year</th>\n",
              "      <th>month</th>\n",
              "    </tr>\n",
              "  </thead>\n",
              "  <tbody>\n",
              "    <tr>\n",
              "      <th>0</th>\n",
              "      <td>0.0</td>\n",
              "      <td>12.8</td>\n",
              "      <td>5.0</td>\n",
              "      <td>4.7</td>\n",
              "      <td>drizzle</td>\n",
              "      <td>2012</td>\n",
              "      <td>1</td>\n",
              "    </tr>\n",
              "    <tr>\n",
              "      <th>1</th>\n",
              "      <td>10.9</td>\n",
              "      <td>10.6</td>\n",
              "      <td>2.8</td>\n",
              "      <td>4.5</td>\n",
              "      <td>rain</td>\n",
              "      <td>2012</td>\n",
              "      <td>1</td>\n",
              "    </tr>\n",
              "    <tr>\n",
              "      <th>2</th>\n",
              "      <td>0.8</td>\n",
              "      <td>11.7</td>\n",
              "      <td>7.2</td>\n",
              "      <td>2.3</td>\n",
              "      <td>rain</td>\n",
              "      <td>2012</td>\n",
              "      <td>1</td>\n",
              "    </tr>\n",
              "    <tr>\n",
              "      <th>3</th>\n",
              "      <td>20.3</td>\n",
              "      <td>12.2</td>\n",
              "      <td>5.6</td>\n",
              "      <td>4.7</td>\n",
              "      <td>rain</td>\n",
              "      <td>2012</td>\n",
              "      <td>1</td>\n",
              "    </tr>\n",
              "    <tr>\n",
              "      <th>4</th>\n",
              "      <td>1.3</td>\n",
              "      <td>8.9</td>\n",
              "      <td>2.8</td>\n",
              "      <td>6.1</td>\n",
              "      <td>rain</td>\n",
              "      <td>2012</td>\n",
              "      <td>1</td>\n",
              "    </tr>\n",
              "    <tr>\n",
              "      <th>...</th>\n",
              "      <td>...</td>\n",
              "      <td>...</td>\n",
              "      <td>...</td>\n",
              "      <td>...</td>\n",
              "      <td>...</td>\n",
              "      <td>...</td>\n",
              "      <td>...</td>\n",
              "    </tr>\n",
              "    <tr>\n",
              "      <th>1456</th>\n",
              "      <td>8.6</td>\n",
              "      <td>4.4</td>\n",
              "      <td>1.7</td>\n",
              "      <td>2.9</td>\n",
              "      <td>rain</td>\n",
              "      <td>2015</td>\n",
              "      <td>12</td>\n",
              "    </tr>\n",
              "    <tr>\n",
              "      <th>1457</th>\n",
              "      <td>1.5</td>\n",
              "      <td>5.0</td>\n",
              "      <td>1.7</td>\n",
              "      <td>1.3</td>\n",
              "      <td>rain</td>\n",
              "      <td>2015</td>\n",
              "      <td>12</td>\n",
              "    </tr>\n",
              "    <tr>\n",
              "      <th>1458</th>\n",
              "      <td>0.0</td>\n",
              "      <td>7.2</td>\n",
              "      <td>0.6</td>\n",
              "      <td>2.6</td>\n",
              "      <td>fog</td>\n",
              "      <td>2015</td>\n",
              "      <td>12</td>\n",
              "    </tr>\n",
              "    <tr>\n",
              "      <th>1459</th>\n",
              "      <td>0.0</td>\n",
              "      <td>5.6</td>\n",
              "      <td>-1.0</td>\n",
              "      <td>3.4</td>\n",
              "      <td>sun</td>\n",
              "      <td>2015</td>\n",
              "      <td>12</td>\n",
              "    </tr>\n",
              "    <tr>\n",
              "      <th>1460</th>\n",
              "      <td>0.0</td>\n",
              "      <td>5.6</td>\n",
              "      <td>-2.1</td>\n",
              "      <td>3.5</td>\n",
              "      <td>sun</td>\n",
              "      <td>2015</td>\n",
              "      <td>12</td>\n",
              "    </tr>\n",
              "  </tbody>\n",
              "</table>\n",
              "<p>1461 rows × 7 columns</p>\n",
              "</div>\n",
              "      <button class=\"colab-df-convert\" onclick=\"convertToInteractive('df-6a89ad16-f02a-43b4-a176-6d9cdbcd6c2c')\"\n",
              "              title=\"Convert this dataframe to an interactive table.\"\n",
              "              style=\"display:none;\">\n",
              "        \n",
              "  <svg xmlns=\"http://www.w3.org/2000/svg\" height=\"24px\"viewBox=\"0 0 24 24\"\n",
              "       width=\"24px\">\n",
              "    <path d=\"M0 0h24v24H0V0z\" fill=\"none\"/>\n",
              "    <path d=\"M18.56 5.44l.94 2.06.94-2.06 2.06-.94-2.06-.94-.94-2.06-.94 2.06-2.06.94zm-11 1L8.5 8.5l.94-2.06 2.06-.94-2.06-.94L8.5 2.5l-.94 2.06-2.06.94zm10 10l.94 2.06.94-2.06 2.06-.94-2.06-.94-.94-2.06-.94 2.06-2.06.94z\"/><path d=\"M17.41 7.96l-1.37-1.37c-.4-.4-.92-.59-1.43-.59-.52 0-1.04.2-1.43.59L10.3 9.45l-7.72 7.72c-.78.78-.78 2.05 0 2.83L4 21.41c.39.39.9.59 1.41.59.51 0 1.02-.2 1.41-.59l7.78-7.78 2.81-2.81c.8-.78.8-2.07 0-2.86zM5.41 20L4 18.59l7.72-7.72 1.47 1.35L5.41 20z\"/>\n",
              "  </svg>\n",
              "      </button>\n",
              "      \n",
              "  <style>\n",
              "    .colab-df-container {\n",
              "      display:flex;\n",
              "      flex-wrap:wrap;\n",
              "      gap: 12px;\n",
              "    }\n",
              "\n",
              "    .colab-df-convert {\n",
              "      background-color: #E8F0FE;\n",
              "      border: none;\n",
              "      border-radius: 50%;\n",
              "      cursor: pointer;\n",
              "      display: none;\n",
              "      fill: #1967D2;\n",
              "      height: 32px;\n",
              "      padding: 0 0 0 0;\n",
              "      width: 32px;\n",
              "    }\n",
              "\n",
              "    .colab-df-convert:hover {\n",
              "      background-color: #E2EBFA;\n",
              "      box-shadow: 0px 1px 2px rgba(60, 64, 67, 0.3), 0px 1px 3px 1px rgba(60, 64, 67, 0.15);\n",
              "      fill: #174EA6;\n",
              "    }\n",
              "\n",
              "    [theme=dark] .colab-df-convert {\n",
              "      background-color: #3B4455;\n",
              "      fill: #D2E3FC;\n",
              "    }\n",
              "\n",
              "    [theme=dark] .colab-df-convert:hover {\n",
              "      background-color: #434B5C;\n",
              "      box-shadow: 0px 1px 3px 1px rgba(0, 0, 0, 0.15);\n",
              "      filter: drop-shadow(0px 1px 2px rgba(0, 0, 0, 0.3));\n",
              "      fill: #FFFFFF;\n",
              "    }\n",
              "  </style>\n",
              "\n",
              "      <script>\n",
              "        const buttonEl =\n",
              "          document.querySelector('#df-6a89ad16-f02a-43b4-a176-6d9cdbcd6c2c button.colab-df-convert');\n",
              "        buttonEl.style.display =\n",
              "          google.colab.kernel.accessAllowed ? 'block' : 'none';\n",
              "\n",
              "        async function convertToInteractive(key) {\n",
              "          const element = document.querySelector('#df-6a89ad16-f02a-43b4-a176-6d9cdbcd6c2c');\n",
              "          const dataTable =\n",
              "            await google.colab.kernel.invokeFunction('convertToInteractive',\n",
              "                                                     [key], {});\n",
              "          if (!dataTable) return;\n",
              "\n",
              "          const docLinkHtml = 'Like what you see? Visit the ' +\n",
              "            '<a target=\"_blank\" href=https://colab.research.google.com/notebooks/data_table.ipynb>data table notebook</a>'\n",
              "            + ' to learn more about interactive tables.';\n",
              "          element.innerHTML = '';\n",
              "          dataTable['output_type'] = 'display_data';\n",
              "          await google.colab.output.renderOutput(dataTable, element);\n",
              "          const docLink = document.createElement('div');\n",
              "          docLink.innerHTML = docLinkHtml;\n",
              "          element.appendChild(docLink);\n",
              "        }\n",
              "      </script>\n",
              "    </div>\n",
              "  </div>\n",
              "  "
            ]
          },
          "metadata": {},
          "execution_count": 21
        }
      ]
    },
    {
      "cell_type": "code",
      "source": [
        "df.columns"
      ],
      "metadata": {
        "colab": {
          "base_uri": "https://localhost:8080/"
        },
        "id": "on_jqMQRVIxr",
        "outputId": "078ab7cb-9b52-4cba-ffcd-e540067a7135"
      },
      "execution_count": 23,
      "outputs": [
        {
          "output_type": "execute_result",
          "data": {
            "text/plain": [
              "Index(['precipitation', 'temp_max', 'temp_min', 'wind', 'weather', 'year',\n",
              "       'month'],\n",
              "      dtype='object')"
            ]
          },
          "metadata": {},
          "execution_count": 23
        }
      ]
    },
    {
      "cell_type": "code",
      "source": [
        "df.isna().sum()"
      ],
      "metadata": {
        "colab": {
          "base_uri": "https://localhost:8080/"
        },
        "id": "S74CxeDLUUHq",
        "outputId": "0ff94c46-96ff-4f58-cf61-537eb5836769"
      },
      "execution_count": 24,
      "outputs": [
        {
          "output_type": "execute_result",
          "data": {
            "text/plain": [
              "precipitation    0\n",
              "temp_max         0\n",
              "temp_min         0\n",
              "wind             0\n",
              "weather          0\n",
              "year             0\n",
              "month            0\n",
              "dtype: int64"
            ]
          },
          "metadata": {},
          "execution_count": 24
        }
      ]
    },
    {
      "cell_type": "code",
      "source": [
        "df.info()"
      ],
      "metadata": {
        "colab": {
          "base_uri": "https://localhost:8080/"
        },
        "id": "W-SVsw9vVOJ4",
        "outputId": "af0712c8-bef9-408f-963d-936500836d21"
      },
      "execution_count": 25,
      "outputs": [
        {
          "output_type": "stream",
          "name": "stdout",
          "text": [
            "<class 'pandas.core.frame.DataFrame'>\n",
            "RangeIndex: 1461 entries, 0 to 1460\n",
            "Data columns (total 7 columns):\n",
            " #   Column         Non-Null Count  Dtype  \n",
            "---  ------         --------------  -----  \n",
            " 0   precipitation  1461 non-null   float64\n",
            " 1   temp_max       1461 non-null   float64\n",
            " 2   temp_min       1461 non-null   float64\n",
            " 3   wind           1461 non-null   float64\n",
            " 4   weather        1461 non-null   object \n",
            " 5   year           1461 non-null   int64  \n",
            " 6   month          1461 non-null   int64  \n",
            "dtypes: float64(4), int64(2), object(1)\n",
            "memory usage: 80.0+ KB\n"
          ]
        }
      ]
    },
    {
      "cell_type": "code",
      "source": [
        "x=df.drop(['weather'],axis='columns').values\n",
        "x"
      ],
      "metadata": {
        "colab": {
          "base_uri": "https://localhost:8080/"
        },
        "id": "DXpjhtZ2VcSA",
        "outputId": "75269bf0-931d-425f-814b-b4cd60dc7666"
      },
      "execution_count": 28,
      "outputs": [
        {
          "output_type": "execute_result",
          "data": {
            "text/plain": [
              "array([[ 0.000e+00,  1.280e+01,  5.000e+00,  4.700e+00,  2.012e+03,\n",
              "         1.000e+00],\n",
              "       [ 1.090e+01,  1.060e+01,  2.800e+00,  4.500e+00,  2.012e+03,\n",
              "         1.000e+00],\n",
              "       [ 8.000e-01,  1.170e+01,  7.200e+00,  2.300e+00,  2.012e+03,\n",
              "         1.000e+00],\n",
              "       ...,\n",
              "       [ 0.000e+00,  7.200e+00,  6.000e-01,  2.600e+00,  2.015e+03,\n",
              "         1.200e+01],\n",
              "       [ 0.000e+00,  5.600e+00, -1.000e+00,  3.400e+00,  2.015e+03,\n",
              "         1.200e+01],\n",
              "       [ 0.000e+00,  5.600e+00, -2.100e+00,  3.500e+00,  2.015e+03,\n",
              "         1.200e+01]])"
            ]
          },
          "metadata": {},
          "execution_count": 28
        }
      ]
    },
    {
      "cell_type": "code",
      "source": [
        "y=df['weather'].values\n",
        "y"
      ],
      "metadata": {
        "colab": {
          "base_uri": "https://localhost:8080/"
        },
        "id": "OdbEpDbJV-vh",
        "outputId": "06f44eef-e20b-4cec-9935-697a4d119183"
      },
      "execution_count": 30,
      "outputs": [
        {
          "output_type": "execute_result",
          "data": {
            "text/plain": [
              "array(['drizzle', 'rain', 'rain', ..., 'fog', 'sun', 'sun'], dtype=object)"
            ]
          },
          "metadata": {},
          "execution_count": 30
        }
      ]
    },
    {
      "cell_type": "code",
      "source": [
        "x.ndim"
      ],
      "metadata": {
        "colab": {
          "base_uri": "https://localhost:8080/"
        },
        "id": "jqm5lBubWLoq",
        "outputId": "7b49c487-f961-4f3d-e39e-f73e9761ef4c"
      },
      "execution_count": 31,
      "outputs": [
        {
          "output_type": "execute_result",
          "data": {
            "text/plain": [
              "2"
            ]
          },
          "metadata": {},
          "execution_count": 31
        }
      ]
    },
    {
      "cell_type": "code",
      "source": [
        "y.ndim"
      ],
      "metadata": {
        "colab": {
          "base_uri": "https://localhost:8080/"
        },
        "id": "6JKzSlzhWSKf",
        "outputId": "d19c0b94-cdda-4a46-96c8-4cd90ccd56ca"
      },
      "execution_count": 32,
      "outputs": [
        {
          "output_type": "execute_result",
          "data": {
            "text/plain": [
              "1"
            ]
          },
          "metadata": {},
          "execution_count": 32
        }
      ]
    },
    {
      "cell_type": "code",
      "source": [
        "from sklearn.model_selection import train_test_split\n",
        "x_train,x_test,y_train,y_test=train_test_split(x,y,test_size=.30,random_state=42)\n",
        "x_train"
      ],
      "metadata": {
        "colab": {
          "base_uri": "https://localhost:8080/"
        },
        "id": "fMtKdnzOWXfA",
        "outputId": "a21f13f1-ad0d-4df5-9d30-95a9b982031a"
      },
      "execution_count": 33,
      "outputs": [
        {
          "output_type": "execute_result",
          "data": {
            "text/plain": [
              "array([[ 6.100e+00,  5.000e+00,  2.800e+00,  7.600e+00,  2.015e+03,\n",
              "         1.200e+01],\n",
              "       [ 2.000e+00,  7.800e+00,  2.800e+00,  8.000e-01,  2.014e+03,\n",
              "         2.000e+00],\n",
              "       [ 0.000e+00,  2.390e+01,  1.330e+01,  2.200e+00,  2.014e+03,\n",
              "         7.000e+00],\n",
              "       ...,\n",
              "       [ 5.000e-01,  1.560e+01,  7.200e+00,  2.100e+00,  2.014e+03,\n",
              "         5.000e+00],\n",
              "       [ 0.000e+00,  5.600e+00, -1.000e+00,  3.400e+00,  2.015e+03,\n",
              "         1.200e+01],\n",
              "       [ 0.000e+00,  7.200e+00,  3.300e+00,  1.900e+00,  2.015e+03,\n",
              "         1.000e+00]])"
            ]
          },
          "metadata": {},
          "execution_count": 33
        }
      ]
    },
    {
      "cell_type": "code",
      "source": [
        "x_test"
      ],
      "metadata": {
        "colab": {
          "base_uri": "https://localhost:8080/"
        },
        "id": "Ah3A8cHPXUbt",
        "outputId": "58860baf-f7ae-40c3-902c-fa48ecfd2ba2"
      },
      "execution_count": 34,
      "outputs": [
        {
          "output_type": "execute_result",
          "data": {
            "text/plain": [
              "array([[0.000e+00, 2.390e+01, 1.110e+01, 2.700e+00, 2.014e+03, 6.000e+00],\n",
              "       [5.800e+00, 7.800e+00, 6.100e+00, 5.000e-01, 2.015e+03, 1.000e+00],\n",
              "       [0.000e+00, 9.400e+00, 4.400e+00, 3.400e+00, 2.013e+03, 2.000e+00],\n",
              "       ...,\n",
              "       [0.000e+00, 1.440e+01, 8.900e+00, 4.300e+00, 2.013e+03, 3.000e+00],\n",
              "       [4.300e+00, 1.500e+01, 9.400e+00, 4.300e+00, 2.014e+03, 3.000e+00],\n",
              "       [0.000e+00, 2.440e+01, 9.400e+00, 4.100e+00, 2.012e+03, 5.000e+00]])"
            ]
          },
          "metadata": {},
          "execution_count": 34
        }
      ]
    },
    {
      "cell_type": "code",
      "source": [
        "y_train"
      ],
      "metadata": {
        "colab": {
          "base_uri": "https://localhost:8080/"
        },
        "id": "ofXDbJwiXUoA",
        "outputId": "df9b83b6-e973-41b7-c3d1-5b202440001f"
      },
      "execution_count": 35,
      "outputs": [
        {
          "output_type": "execute_result",
          "data": {
            "text/plain": [
              "array(['rain', 'rain', 'sun', ..., 'rain', 'sun', 'fog'], dtype=object)"
            ]
          },
          "metadata": {},
          "execution_count": 35
        }
      ]
    },
    {
      "cell_type": "code",
      "source": [
        "y_test"
      ],
      "metadata": {
        "colab": {
          "base_uri": "https://localhost:8080/"
        },
        "id": "qv4oWEnyXU2_",
        "outputId": "ed36400a-77f9-4255-e308-23e127e9de8d"
      },
      "execution_count": 36,
      "outputs": [
        {
          "output_type": "execute_result",
          "data": {
            "text/plain": [
              "array(['sun', 'rain', 'rain', 'sun', 'rain', 'rain', 'rain', 'sun',\n",
              "       'rain', 'sun', 'sun', 'sun', 'rain', 'sun', 'fog', 'rain', 'sun',\n",
              "       'fog', 'fog', 'sun', 'rain', 'rain', 'rain', 'sun', 'fog', 'rain',\n",
              "       'sun', 'sun', 'fog', 'sun', 'rain', 'sun', 'sun', 'snow', 'sun',\n",
              "       'rain', 'rain', 'rain', 'rain', 'sun', 'rain', 'sun', 'fog', 'sun',\n",
              "       'sun', 'rain', 'rain', 'sun', 'rain', 'sun', 'sun', 'rain', 'sun',\n",
              "       'rain', 'sun', 'rain', 'rain', 'sun', 'rain', 'sun', 'rain', 'sun',\n",
              "       'snow', 'sun', 'sun', 'drizzle', 'rain', 'sun', 'rain', 'rain',\n",
              "       'rain', 'fog', 'sun', 'rain', 'rain', 'sun', 'rain', 'sun', 'rain',\n",
              "       'snow', 'rain', 'drizzle', 'rain', 'sun', 'rain', 'sun', 'drizzle',\n",
              "       'rain', 'fog', 'rain', 'rain', 'sun', 'sun', 'rain', 'rain', 'sun',\n",
              "       'sun', 'rain', 'sun', 'rain', 'sun', 'sun', 'rain', 'snow', 'rain',\n",
              "       'sun', 'sun', 'rain', 'sun', 'rain', 'rain', 'sun', 'rain', 'rain',\n",
              "       'drizzle', 'fog', 'sun', 'sun', 'sun', 'rain', 'rain', 'rain',\n",
              "       'rain', 'rain', 'rain', 'sun', 'sun', 'sun', 'sun', 'sun', 'sun',\n",
              "       'sun', 'sun', 'sun', 'fog', 'sun', 'rain', 'rain', 'rain', 'sun',\n",
              "       'drizzle', 'sun', 'rain', 'rain', 'drizzle', 'fog', 'sun', 'rain',\n",
              "       'sun', 'sun', 'rain', 'sun', 'sun', 'sun', 'rain', 'rain', 'fog',\n",
              "       'sun', 'rain', 'rain', 'sun', 'sun', 'rain', 'sun', 'sun', 'rain',\n",
              "       'rain', 'sun', 'sun', 'sun', 'rain', 'rain', 'fog', 'sun', 'rain',\n",
              "       'rain', 'sun', 'sun', 'sun', 'rain', 'sun', 'sun', 'sun', 'rain',\n",
              "       'rain', 'rain', 'rain', 'rain', 'sun', 'sun', 'drizzle', 'fog',\n",
              "       'sun', 'rain', 'fog', 'sun', 'fog', 'rain', 'snow', 'rain', 'rain',\n",
              "       'sun', 'drizzle', 'rain', 'sun', 'rain', 'rain', 'sun', 'rain',\n",
              "       'sun', 'rain', 'sun', 'sun', 'sun', 'rain', 'sun', 'sun', 'sun',\n",
              "       'rain', 'sun', 'rain', 'sun', 'sun', 'sun', 'fog', 'rain', 'sun',\n",
              "       'rain', 'sun', 'rain', 'sun', 'rain', 'sun', 'sun', 'rain', 'sun',\n",
              "       'sun', 'sun', 'drizzle', 'fog', 'snow', 'rain', 'sun', 'snow',\n",
              "       'sun', 'sun', 'sun', 'sun', 'rain', 'rain', 'rain', 'rain', 'rain',\n",
              "       'fog', 'sun', 'fog', 'rain', 'sun', 'rain', 'rain', 'rain', 'rain',\n",
              "       'rain', 'rain', 'rain', 'fog', 'rain', 'fog', 'fog', 'sun', 'sun',\n",
              "       'sun', 'sun', 'rain', 'sun', 'sun', 'rain', 'snow', 'sun', 'sun',\n",
              "       'fog', 'rain', 'sun', 'sun', 'sun', 'sun', 'rain', 'sun', 'sun',\n",
              "       'rain', 'fog', 'rain', 'sun', 'fog', 'rain', 'rain', 'sun', 'rain',\n",
              "       'rain', 'rain', 'rain', 'rain', 'rain', 'rain', 'rain', 'rain',\n",
              "       'rain', 'drizzle', 'sun', 'sun', 'rain', 'rain', 'rain', 'sun',\n",
              "       'rain', 'sun', 'sun', 'rain', 'sun', 'sun', 'rain', 'rain', 'rain',\n",
              "       'sun', 'sun', 'rain', 'rain', 'drizzle', 'sun', 'sun', 'sun',\n",
              "       'rain', 'rain', 'rain', 'sun', 'sun', 'rain', 'rain', 'rain',\n",
              "       'rain', 'rain', 'sun', 'rain', 'rain', 'sun', 'rain', 'fog',\n",
              "       'rain', 'rain', 'rain', 'sun', 'sun', 'fog', 'rain', 'sun', 'rain',\n",
              "       'sun', 'fog', 'sun', 'fog', 'sun', 'sun', 'sun', 'rain', 'rain',\n",
              "       'rain', 'sun', 'sun', 'sun', 'sun', 'rain', 'rain', 'rain', 'rain',\n",
              "       'rain', 'rain', 'rain', 'rain', 'rain', 'rain', 'rain', 'sun',\n",
              "       'fog', 'sun', 'rain', 'rain', 'rain', 'sun', 'sun', 'rain', 'rain',\n",
              "       'sun', 'sun', 'sun', 'rain', 'sun', 'sun', 'sun', 'rain', 'rain',\n",
              "       'rain', 'sun', 'sun', 'drizzle', 'sun', 'rain', 'sun', 'sun',\n",
              "       'sun', 'sun', 'sun', 'sun', 'sun', 'sun', 'sun', 'sun', 'rain',\n",
              "       'rain', 'sun', 'sun', 'sun', 'sun', 'drizzle', 'sun', 'fog',\n",
              "       'rain', 'sun', 'sun', 'rain', 'sun', 'rain', 'rain', 'sun', 'sun',\n",
              "       'rain', 'rain', 'rain', 'rain', 'drizzle'], dtype=object)"
            ]
          },
          "metadata": {},
          "execution_count": 36
        }
      ]
    },
    {
      "cell_type": "code",
      "source": [
        "from sklearn.preprocessing import StandardScaler\n",
        "scalar=StandardScaler()\n",
        "scalar.fit(x_train)\n",
        "x_train=scalar.fit_transform(x_train)\n",
        "x_test=scalar.fit_transform(x_test)\n",
        "x_train"
      ],
      "metadata": {
        "colab": {
          "base_uri": "https://localhost:8080/"
        },
        "id": "8FGCOzGaXVJw",
        "outputId": "e3f0a073-6a61-4e3c-ef25-b4f2501cfc9c"
      },
      "execution_count": 40,
      "outputs": [
        {
          "output_type": "execute_result",
          "data": {
            "text/plain": [
              "array([[ 0.46133235, -1.56004122, -1.09616752,  3.02943991,  1.32982065,\n",
              "         1.60056979],\n",
              "       [-0.15455155, -1.18016631, -1.09616752, -1.70932744,  0.43745249,\n",
              "        -1.30026782],\n",
              "       [-0.45498272,  1.00411442,  1.00477618, -0.73369887,  0.43745249,\n",
              "         0.15015099],\n",
              "       ...,\n",
              "       [-0.37987493, -0.12194335, -0.21577207, -0.80338663,  0.43745249,\n",
              "        -0.43001653],\n",
              "       [-0.45498272, -1.47863945, -1.85650905,  0.10255419,  1.32982065,\n",
              "         1.60056979],\n",
              "       [-0.45498272, -1.26156808, -0.99612258, -0.94276214,  1.32982065,\n",
              "        -1.59035158]])"
            ]
          },
          "metadata": {},
          "execution_count": 40
        }
      ]
    },
    {
      "cell_type": "code",
      "source": [
        "x_test"
      ],
      "metadata": {
        "colab": {
          "base_uri": "https://localhost:8080/"
        },
        "id": "Px42GgT0ZGZx",
        "outputId": "2402bf6d-ed24-4f1a-bd47-29d8ac40cfc8"
      },
      "execution_count": 41,
      "outputs": [
        {
          "output_type": "execute_result",
          "data": {
            "text/plain": [
              "array([[-0.45059558,  1.04251015,  0.58467304, -0.35626658,  0.47293388,\n",
              "        -0.17892229],\n",
              "       [ 0.41171669, -1.1659653 , -0.40070574, -1.88145392,  1.37171298,\n",
              "        -1.6281268 ],\n",
              "       [-0.45059558, -0.94648948, -0.73573452,  0.1290203 , -0.42584522,\n",
              "        -1.3382859 ],\n",
              "       ...,\n",
              "       [-0.45059558, -0.26062754,  0.15110638,  0.75296058, -0.42584522,\n",
              "        -1.04844499],\n",
              "       [ 0.18870489, -0.1783241 ,  0.24964425,  0.75296058,  0.47293388,\n",
              "        -1.04844499],\n",
              "       [-0.45059558,  1.11109635,  0.24964425,  0.61430718, -1.32462432,\n",
              "        -0.46876319]])"
            ]
          },
          "metadata": {},
          "execution_count": 41
        }
      ]
    },
    {
      "cell_type": "code",
      "source": [
        "from sklearn.neighbors import KNeighborsClassifier\n",
        "model=KNeighborsClassifier(n_neighbors=7)\n",
        "model.fit(x_train,y_train)\n",
        "y_pred=model.predict(x_test)\n",
        "y_pred"
      ],
      "metadata": {
        "colab": {
          "base_uri": "https://localhost:8080/"
        },
        "id": "Shfu0tPwZJb_",
        "outputId": "8a29c7b0-d2d1-4075-f618-7a31424a65ba"
      },
      "execution_count": 42,
      "outputs": [
        {
          "output_type": "execute_result",
          "data": {
            "text/plain": [
              "array(['sun', 'rain', 'rain', 'sun', 'rain', 'rain', 'sun', 'sun', 'rain',\n",
              "       'sun', 'sun', 'sun', 'rain', 'sun', 'fog', 'rain', 'rain', 'rain',\n",
              "       'fog', 'sun', 'rain', 'sun', 'rain', 'sun', 'sun', 'rain', 'rain',\n",
              "       'sun', 'sun', 'sun', 'rain', 'sun', 'sun', 'rain', 'sun', 'rain',\n",
              "       'rain', 'rain', 'rain', 'sun', 'rain', 'sun', 'rain', 'sun',\n",
              "       'rain', 'rain', 'rain', 'rain', 'sun', 'sun', 'sun', 'sun', 'sun',\n",
              "       'rain', 'sun', 'rain', 'rain', 'sun', 'rain', 'sun', 'rain', 'sun',\n",
              "       'rain', 'sun', 'sun', 'sun', 'rain', 'sun', 'rain', 'rain', 'rain',\n",
              "       'sun', 'rain', 'sun', 'sun', 'rain', 'sun', 'sun', 'rain', 'rain',\n",
              "       'rain', 'rain', 'rain', 'sun', 'rain', 'sun', 'sun', 'rain', 'sun',\n",
              "       'rain', 'rain', 'sun', 'sun', 'rain', 'rain', 'sun', 'sun', 'sun',\n",
              "       'sun', 'rain', 'sun', 'sun', 'rain', 'snow', 'rain', 'sun', 'sun',\n",
              "       'rain', 'sun', 'sun', 'rain', 'rain', 'rain', 'sun', 'drizzle',\n",
              "       'rain', 'sun', 'rain', 'sun', 'rain', 'rain', 'sun', 'rain',\n",
              "       'rain', 'rain', 'sun', 'sun', 'sun', 'sun', 'sun', 'sun', 'sun',\n",
              "       'sun', 'sun', 'sun', 'sun', 'rain', 'rain', 'rain', 'sun', 'sun',\n",
              "       'sun', 'rain', 'rain', 'rain', 'fog', 'sun', 'rain', 'sun', 'sun',\n",
              "       'sun', 'sun', 'sun', 'sun', 'sun', 'rain', 'fog', 'sun', 'sun',\n",
              "       'sun', 'rain', 'sun', 'rain', 'sun', 'sun', 'rain', 'rain', 'sun',\n",
              "       'sun', 'sun', 'rain', 'rain', 'sun', 'sun', 'rain', 'rain', 'sun',\n",
              "       'sun', 'sun', 'sun', 'sun', 'sun', 'fog', 'rain', 'rain', 'rain',\n",
              "       'rain', 'rain', 'sun', 'sun', 'rain', 'sun', 'sun', 'rain', 'rain',\n",
              "       'sun', 'sun', 'rain', 'rain', 'rain', 'rain', 'sun', 'rain',\n",
              "       'rain', 'sun', 'rain', 'rain', 'sun', 'rain', 'rain', 'drizzle',\n",
              "       'sun', 'rain', 'sun', 'sun', 'sun', 'sun', 'sun', 'rain', 'sun',\n",
              "       'rain', 'sun', 'sun', 'sun', 'sun', 'rain', 'sun', 'rain', 'sun',\n",
              "       'rain', 'sun', 'rain', 'sun', 'sun', 'sun', 'sun', 'rain', 'rain',\n",
              "       'rain', 'sun', 'rain', 'rain', 'sun', 'rain', 'sun', 'sun', 'rain',\n",
              "       'sun', 'rain', 'rain', 'rain', 'rain', 'rain', 'sun', 'sun',\n",
              "       'rain', 'rain', 'sun', 'rain', 'rain', 'rain', 'rain', 'sun',\n",
              "       'rain', 'rain', 'sun', 'rain', 'fog', 'fog', 'sun', 'sun', 'rain',\n",
              "       'sun', 'rain', 'sun', 'sun', 'rain', 'rain', 'sun', 'sun', 'sun',\n",
              "       'rain', 'sun', 'rain', 'sun', 'sun', 'rain', 'sun', 'fog', 'sun',\n",
              "       'sun', 'rain', 'sun', 'sun', 'rain', 'rain', 'drizzle', 'rain',\n",
              "       'rain', 'fog', 'sun', 'rain', 'rain', 'rain', 'rain', 'rain',\n",
              "       'rain', 'sun', 'sun', 'sun', 'rain', 'rain', 'rain', 'sun', 'rain',\n",
              "       'sun', 'sun', 'rain', 'sun', 'rain', 'rain', 'rain', 'sun', 'rain',\n",
              "       'sun', 'rain', 'sun', 'drizzle', 'sun', 'sun', 'sun', 'sun', 'sun',\n",
              "       'rain', 'sun', 'sun', 'sun', 'rain', 'rain', 'sun', 'rain', 'sun',\n",
              "       'sun', 'rain', 'sun', 'rain', 'sun', 'sun', 'rain', 'rain', 'sun',\n",
              "       'rain', 'fog', 'rain', 'sun', 'rain', 'rain', 'rain', 'sun', 'sun',\n",
              "       'sun', 'sun', 'sun', 'rain', 'rain', 'rain', 'sun', 'fog', 'sun',\n",
              "       'sun', 'rain', 'rain', 'rain', 'sun', 'rain', 'rain', 'rain',\n",
              "       'rain', 'rain', 'rain', 'sun', 'fog', 'sun', 'sun', 'rain', 'rain',\n",
              "       'sun', 'sun', 'drizzle', 'rain', 'rain', 'sun', 'rain', 'sun',\n",
              "       'rain', 'sun', 'sun', 'rain', 'rain', 'sun', 'rain', 'sun', 'sun',\n",
              "       'rain', 'rain', 'rain', 'sun', 'sun', 'rain', 'sun', 'sun', 'sun',\n",
              "       'sun', 'sun', 'sun', 'sun', 'rain', 'rain', 'rain', 'rain', 'rain',\n",
              "       'rain', 'drizzle', 'rain', 'sun', 'rain', 'rain', 'sun', 'rain',\n",
              "       'sun', 'rain', 'rain', 'sun', 'rain', 'rain', 'sun', 'rain',\n",
              "       'rain', 'sun'], dtype=object)"
            ]
          },
          "metadata": {},
          "execution_count": 42
        }
      ]
    },
    {
      "cell_type": "code",
      "source": [
        "y_test"
      ],
      "metadata": {
        "colab": {
          "base_uri": "https://localhost:8080/"
        },
        "id": "om_PXRhDZ66u",
        "outputId": "fd0e8f91-cf37-40f3-9e3b-775f2ab3d8ce"
      },
      "execution_count": 43,
      "outputs": [
        {
          "output_type": "execute_result",
          "data": {
            "text/plain": [
              "array(['sun', 'rain', 'rain', 'sun', 'rain', 'rain', 'rain', 'sun',\n",
              "       'rain', 'sun', 'sun', 'sun', 'rain', 'sun', 'fog', 'rain', 'sun',\n",
              "       'fog', 'fog', 'sun', 'rain', 'rain', 'rain', 'sun', 'fog', 'rain',\n",
              "       'sun', 'sun', 'fog', 'sun', 'rain', 'sun', 'sun', 'snow', 'sun',\n",
              "       'rain', 'rain', 'rain', 'rain', 'sun', 'rain', 'sun', 'fog', 'sun',\n",
              "       'sun', 'rain', 'rain', 'sun', 'rain', 'sun', 'sun', 'rain', 'sun',\n",
              "       'rain', 'sun', 'rain', 'rain', 'sun', 'rain', 'sun', 'rain', 'sun',\n",
              "       'snow', 'sun', 'sun', 'drizzle', 'rain', 'sun', 'rain', 'rain',\n",
              "       'rain', 'fog', 'sun', 'rain', 'rain', 'sun', 'rain', 'sun', 'rain',\n",
              "       'snow', 'rain', 'drizzle', 'rain', 'sun', 'rain', 'sun', 'drizzle',\n",
              "       'rain', 'fog', 'rain', 'rain', 'sun', 'sun', 'rain', 'rain', 'sun',\n",
              "       'sun', 'rain', 'sun', 'rain', 'sun', 'sun', 'rain', 'snow', 'rain',\n",
              "       'sun', 'sun', 'rain', 'sun', 'rain', 'rain', 'sun', 'rain', 'rain',\n",
              "       'drizzle', 'fog', 'sun', 'sun', 'sun', 'rain', 'rain', 'rain',\n",
              "       'rain', 'rain', 'rain', 'sun', 'sun', 'sun', 'sun', 'sun', 'sun',\n",
              "       'sun', 'sun', 'sun', 'fog', 'sun', 'rain', 'rain', 'rain', 'sun',\n",
              "       'drizzle', 'sun', 'rain', 'rain', 'drizzle', 'fog', 'sun', 'rain',\n",
              "       'sun', 'sun', 'rain', 'sun', 'sun', 'sun', 'rain', 'rain', 'fog',\n",
              "       'sun', 'rain', 'rain', 'sun', 'sun', 'rain', 'sun', 'sun', 'rain',\n",
              "       'rain', 'sun', 'sun', 'sun', 'rain', 'rain', 'fog', 'sun', 'rain',\n",
              "       'rain', 'sun', 'sun', 'sun', 'rain', 'sun', 'sun', 'sun', 'rain',\n",
              "       'rain', 'rain', 'rain', 'rain', 'sun', 'sun', 'drizzle', 'fog',\n",
              "       'sun', 'rain', 'fog', 'sun', 'fog', 'rain', 'snow', 'rain', 'rain',\n",
              "       'sun', 'drizzle', 'rain', 'sun', 'rain', 'rain', 'sun', 'rain',\n",
              "       'sun', 'rain', 'sun', 'sun', 'sun', 'rain', 'sun', 'sun', 'sun',\n",
              "       'rain', 'sun', 'rain', 'sun', 'sun', 'sun', 'fog', 'rain', 'sun',\n",
              "       'rain', 'sun', 'rain', 'sun', 'rain', 'sun', 'sun', 'rain', 'sun',\n",
              "       'sun', 'sun', 'drizzle', 'fog', 'snow', 'rain', 'sun', 'snow',\n",
              "       'sun', 'sun', 'sun', 'sun', 'rain', 'rain', 'rain', 'rain', 'rain',\n",
              "       'fog', 'sun', 'fog', 'rain', 'sun', 'rain', 'rain', 'rain', 'rain',\n",
              "       'rain', 'rain', 'rain', 'fog', 'rain', 'fog', 'fog', 'sun', 'sun',\n",
              "       'sun', 'sun', 'rain', 'sun', 'sun', 'rain', 'snow', 'sun', 'sun',\n",
              "       'fog', 'rain', 'sun', 'sun', 'sun', 'sun', 'rain', 'sun', 'sun',\n",
              "       'rain', 'fog', 'rain', 'sun', 'fog', 'rain', 'rain', 'sun', 'rain',\n",
              "       'rain', 'rain', 'rain', 'rain', 'rain', 'rain', 'rain', 'rain',\n",
              "       'rain', 'drizzle', 'sun', 'sun', 'rain', 'rain', 'rain', 'sun',\n",
              "       'rain', 'sun', 'sun', 'rain', 'sun', 'sun', 'rain', 'rain', 'rain',\n",
              "       'sun', 'sun', 'rain', 'rain', 'drizzle', 'sun', 'sun', 'sun',\n",
              "       'rain', 'rain', 'rain', 'sun', 'sun', 'rain', 'rain', 'rain',\n",
              "       'rain', 'rain', 'sun', 'rain', 'rain', 'sun', 'rain', 'fog',\n",
              "       'rain', 'rain', 'rain', 'sun', 'sun', 'fog', 'rain', 'sun', 'rain',\n",
              "       'sun', 'fog', 'sun', 'fog', 'sun', 'sun', 'sun', 'rain', 'rain',\n",
              "       'rain', 'sun', 'sun', 'sun', 'sun', 'rain', 'rain', 'rain', 'rain',\n",
              "       'rain', 'rain', 'rain', 'rain', 'rain', 'rain', 'rain', 'sun',\n",
              "       'fog', 'sun', 'rain', 'rain', 'rain', 'sun', 'sun', 'rain', 'rain',\n",
              "       'sun', 'sun', 'sun', 'rain', 'sun', 'sun', 'sun', 'rain', 'rain',\n",
              "       'rain', 'sun', 'sun', 'drizzle', 'sun', 'rain', 'sun', 'sun',\n",
              "       'sun', 'sun', 'sun', 'sun', 'sun', 'sun', 'sun', 'sun', 'rain',\n",
              "       'rain', 'sun', 'sun', 'sun', 'sun', 'drizzle', 'sun', 'fog',\n",
              "       'rain', 'sun', 'sun', 'rain', 'sun', 'rain', 'rain', 'sun', 'sun',\n",
              "       'rain', 'rain', 'rain', 'rain', 'drizzle'], dtype=object)"
            ]
          },
          "metadata": {},
          "execution_count": 43
        }
      ]
    },
    {
      "cell_type": "code",
      "source": [
        "print(model.predict(scalar.transform([[1,35,8,7,2012,12]])))"
      ],
      "metadata": {
        "colab": {
          "base_uri": "https://localhost:8080/"
        },
        "id": "Id4VthPHZ_U0",
        "outputId": "7191c190-eba7-4cb7-97a1-24784a83932c"
      },
      "execution_count": 44,
      "outputs": [
        {
          "output_type": "stream",
          "name": "stdout",
          "text": [
            "['sun']\n"
          ]
        }
      ]
    },
    {
      "cell_type": "code",
      "source": [
        "from sklearn.metrics import confusion_matrix,accuracy_score\n",
        "result=confusion_matrix(y_test,y_pred)\n",
        "result"
      ],
      "metadata": {
        "colab": {
          "base_uri": "https://localhost:8080/"
        },
        "id": "96dLyVF4arZ2",
        "outputId": "163ab033-b848-41dc-89da-305843f6f347"
      },
      "execution_count": 45,
      "outputs": [
        {
          "output_type": "execute_result",
          "data": {
            "text/plain": [
              "array([[  3,   0,   6,   0,   5],\n",
              "       [  0,   7,   6,   0,  19],\n",
              "       [  1,   1, 156,   0,  34],\n",
              "       [  0,   0,   7,   1,   0],\n",
              "       [  2,   4,  31,   0, 156]])"
            ]
          },
          "metadata": {},
          "execution_count": 45
        }
      ]
    },
    {
      "cell_type": "code",
      "source": [
        "score=accuracy_score(y_test,y_pred)\n",
        "score"
      ],
      "metadata": {
        "colab": {
          "base_uri": "https://localhost:8080/"
        },
        "id": "cxaD7i4Ia9O5",
        "outputId": "0da9eee6-6925-45b9-d9e0-2c9fe7d8dc37"
      },
      "execution_count": 46,
      "outputs": [
        {
          "output_type": "execute_result",
          "data": {
            "text/plain": [
              "0.7357630979498861"
            ]
          },
          "metadata": {},
          "execution_count": 46
        }
      ]
    }
  ]
}